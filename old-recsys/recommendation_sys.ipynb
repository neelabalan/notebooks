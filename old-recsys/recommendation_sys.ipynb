{
 "cells": [
  {
   "attachments": {},
   "cell_type": "markdown",
   "metadata": {},
   "source": [
    "# Recommendation System\n"
   ]
  },
  {
   "attachments": {},
   "cell_type": "markdown",
   "metadata": {},
   "source": [
    "## Data Description \n",
    "\n",
    "- author: name of the person who gave the rating\n",
    "- country: country the person who gave the rating belongs to\n",
    "- data: date of the rating\n",
    "- domain: website from which the rating was taken from\n",
    "- extract: rating content\n",
    "- language: language in which the rating was given\n",
    "- product: name of the product/mobile phone for which the rating was given\n",
    "- score: average rating for the phone\n",
    "- score_max: highest rating given for the phone\n",
    "- source: source from where the rating was taken"
   ]
  },
  {
   "cell_type": "code",
   "execution_count": 1,
   "metadata": {},
   "outputs": [],
   "source": [
    "from collections import defaultdict\n",
    "from typing import List\n",
    "\n",
    "import pandas as pd\n",
    "import numpy as np\n",
    "import matplotlib.pyplot as plt\n",
    "import seaborn as sns\n",
    "\n",
    "from surprise import SVD\n",
    "from surprise import KNNWithMeans\n",
    "from surprise import Dataset\n",
    "from surprise import Prediction\n",
    "from surprise import accuracy\n",
    "from surprise import Reader\n",
    "from surprise.model_selection import cross_validate\n",
    "from surprise.model_selection import train_test_split\n",
    "\n",
    "\n",
    "%matplotlib inline"
   ]
  },
  {
   "cell_type": "code",
   "execution_count": 2,
   "metadata": {},
   "outputs": [],
   "source": [
    "import warnings\n",
    "\n",
    "warnings.filterwarnings(\"ignore\")"
   ]
  },
  {
   "cell_type": "code",
   "execution_count": 3,
   "metadata": {},
   "outputs": [],
   "source": [
    "# https://www.kaggle.com/datasets/dsrivastava2020/recommendation-system\n",
    "\n",
    "review_1 = pd.read_csv(\"data/phone_user_review_file_1.csv\", encoding=\"iso-8859-1\")\n",
    "review_2 = pd.read_csv(\"data/phone_user_review_file_2.csv\", encoding=\"iso-8859-1\")\n",
    "review_3 = pd.read_csv(\"data/phone_user_review_file_3.csv\", encoding=\"iso-8859-1\")\n",
    "review_4 = pd.read_csv(\"data/phone_user_review_file_4.csv\", encoding=\"iso-8859-1\")\n",
    "review_5 = pd.read_csv(\"data/phone_user_review_file_5.csv\", encoding=\"iso-8859-1\")\n",
    "review_6 = pd.read_csv(\"data/phone_user_review_file_6.csv\", encoding=\"iso-8859-1\")"
   ]
  },
  {
   "cell_type": "code",
   "execution_count": 4,
   "metadata": {},
   "outputs": [],
   "source": [
    "reviews = pd.concat(\n",
    "    [review_1, review_2, review_3, review_4, review_5, review_6], ignore_index=True\n",
    ")"
   ]
  },
  {
   "cell_type": "code",
   "execution_count": 5,
   "metadata": {},
   "outputs": [
    {
     "data": {
      "text/html": [
       "<div>\n",
       "<style scoped>\n",
       "    .dataframe tbody tr th:only-of-type {\n",
       "        vertical-align: middle;\n",
       "    }\n",
       "\n",
       "    .dataframe tbody tr th {\n",
       "        vertical-align: top;\n",
       "    }\n",
       "\n",
       "    .dataframe thead th {\n",
       "        text-align: right;\n",
       "    }\n",
       "</style>\n",
       "<table border=\"1\" class=\"dataframe\">\n",
       "  <thead>\n",
       "    <tr style=\"text-align: right;\">\n",
       "      <th></th>\n",
       "      <th>phone_url</th>\n",
       "      <th>date</th>\n",
       "      <th>lang</th>\n",
       "      <th>country</th>\n",
       "      <th>source</th>\n",
       "      <th>domain</th>\n",
       "      <th>score</th>\n",
       "      <th>score_max</th>\n",
       "      <th>extract</th>\n",
       "      <th>author</th>\n",
       "      <th>product</th>\n",
       "    </tr>\n",
       "  </thead>\n",
       "  <tbody>\n",
       "    <tr>\n",
       "      <th>0</th>\n",
       "      <td>/cellphones/samsung-galaxy-s8/</td>\n",
       "      <td>5/2/2017</td>\n",
       "      <td>en</td>\n",
       "      <td>us</td>\n",
       "      <td>Verizon Wireless</td>\n",
       "      <td>verizonwireless.com</td>\n",
       "      <td>10.0</td>\n",
       "      <td>10.0</td>\n",
       "      <td>As a diehard Samsung fan who has had every Sam...</td>\n",
       "      <td>CarolAnn35</td>\n",
       "      <td>Samsung Galaxy S8</td>\n",
       "    </tr>\n",
       "    <tr>\n",
       "      <th>1</th>\n",
       "      <td>/cellphones/samsung-galaxy-s8/</td>\n",
       "      <td>4/28/2017</td>\n",
       "      <td>en</td>\n",
       "      <td>us</td>\n",
       "      <td>Phone Arena</td>\n",
       "      <td>phonearena.com</td>\n",
       "      <td>10.0</td>\n",
       "      <td>10.0</td>\n",
       "      <td>Love the phone. the phone is sleek and smooth ...</td>\n",
       "      <td>james0923</td>\n",
       "      <td>Samsung Galaxy S8</td>\n",
       "    </tr>\n",
       "    <tr>\n",
       "      <th>2</th>\n",
       "      <td>/cellphones/samsung-galaxy-s8/</td>\n",
       "      <td>5/4/2017</td>\n",
       "      <td>en</td>\n",
       "      <td>us</td>\n",
       "      <td>Amazon</td>\n",
       "      <td>amazon.com</td>\n",
       "      <td>6.0</td>\n",
       "      <td>10.0</td>\n",
       "      <td>Adequate feel. Nice heft. Processor's still sl...</td>\n",
       "      <td>R. Craig</td>\n",
       "      <td>Samsung Galaxy S8 (64GB) G950U 5.8\" 4G LTE Unl...</td>\n",
       "    </tr>\n",
       "    <tr>\n",
       "      <th>3</th>\n",
       "      <td>/cellphones/samsung-galaxy-s8/</td>\n",
       "      <td>5/2/2017</td>\n",
       "      <td>en</td>\n",
       "      <td>us</td>\n",
       "      <td>Samsung</td>\n",
       "      <td>samsung.com</td>\n",
       "      <td>9.2</td>\n",
       "      <td>10.0</td>\n",
       "      <td>Never disappointed. One of the reasons I've be...</td>\n",
       "      <td>Buster2020</td>\n",
       "      <td>Samsung Galaxy S8 64GB (AT&amp;T)</td>\n",
       "    </tr>\n",
       "    <tr>\n",
       "      <th>4</th>\n",
       "      <td>/cellphones/samsung-galaxy-s8/</td>\n",
       "      <td>5/11/2017</td>\n",
       "      <td>en</td>\n",
       "      <td>us</td>\n",
       "      <td>Verizon Wireless</td>\n",
       "      <td>verizonwireless.com</td>\n",
       "      <td>4.0</td>\n",
       "      <td>10.0</td>\n",
       "      <td>I've now found that i'm in a group of people t...</td>\n",
       "      <td>S Ate Mine</td>\n",
       "      <td>Samsung Galaxy S8</td>\n",
       "    </tr>\n",
       "  </tbody>\n",
       "</table>\n",
       "</div>"
      ],
      "text/plain": [
       "                        phone_url       date lang country            source  \\\n",
       "0  /cellphones/samsung-galaxy-s8/   5/2/2017   en      us  Verizon Wireless   \n",
       "1  /cellphones/samsung-galaxy-s8/  4/28/2017   en      us       Phone Arena   \n",
       "2  /cellphones/samsung-galaxy-s8/   5/4/2017   en      us            Amazon   \n",
       "3  /cellphones/samsung-galaxy-s8/   5/2/2017   en      us           Samsung   \n",
       "4  /cellphones/samsung-galaxy-s8/  5/11/2017   en      us  Verizon Wireless   \n",
       "\n",
       "                domain  score  score_max  \\\n",
       "0  verizonwireless.com   10.0       10.0   \n",
       "1       phonearena.com   10.0       10.0   \n",
       "2           amazon.com    6.0       10.0   \n",
       "3          samsung.com    9.2       10.0   \n",
       "4  verizonwireless.com    4.0       10.0   \n",
       "\n",
       "                                             extract       author  \\\n",
       "0  As a diehard Samsung fan who has had every Sam...   CarolAnn35   \n",
       "1  Love the phone. the phone is sleek and smooth ...    james0923   \n",
       "2  Adequate feel. Nice heft. Processor's still sl...     R. Craig   \n",
       "3  Never disappointed. One of the reasons I've be...  Buster2020    \n",
       "4  I've now found that i'm in a group of people t...   S Ate Mine   \n",
       "\n",
       "                                             product  \n",
       "0                                  Samsung Galaxy S8  \n",
       "1                                  Samsung Galaxy S8  \n",
       "2  Samsung Galaxy S8 (64GB) G950U 5.8\" 4G LTE Unl...  \n",
       "3                      Samsung Galaxy S8 64GB (AT&T)  \n",
       "4                                  Samsung Galaxy S8  "
      ]
     },
     "execution_count": 5,
     "metadata": {},
     "output_type": "execute_result"
    }
   ],
   "source": [
    "reviews.head()\n"
   ]
  },
  {
   "cell_type": "code",
   "execution_count": 6,
   "metadata": {},
   "outputs": [
    {
     "data": {
      "text/plain": [
       "(1415133, 11)"
      ]
     },
     "execution_count": 6,
     "metadata": {},
     "output_type": "execute_result"
    }
   ],
   "source": [
    "reviews.shape\n"
   ]
  },
  {
   "cell_type": "code",
   "execution_count": 7,
   "metadata": {},
   "outputs": [
    {
     "data": {
      "text/plain": [
       "Index(['phone_url', 'date', 'lang', 'country', 'source', 'domain', 'score',\n",
       "       'score_max', 'extract', 'author', 'product'],\n",
       "      dtype='object')"
      ]
     },
     "execution_count": 7,
     "metadata": {},
     "output_type": "execute_result"
    }
   ],
   "source": [
    "reviews.columns\n"
   ]
  },
  {
   "attachments": {},
   "cell_type": "markdown",
   "metadata": {},
   "source": [
    "\n",
    "1.B. Explore, understand the Data and share at least 2 observations."
   ]
  },
  {
   "cell_type": "code",
   "execution_count": 8,
   "metadata": {},
   "outputs": [
    {
     "data": {
      "text/plain": [
       "phone_url     object\n",
       "date          object\n",
       "lang          object\n",
       "country       object\n",
       "source        object\n",
       "domain        object\n",
       "score        float64\n",
       "score_max    float64\n",
       "extract       object\n",
       "author        object\n",
       "product       object\n",
       "dtype: object"
      ]
     },
     "execution_count": 8,
     "metadata": {},
     "output_type": "execute_result"
    }
   ],
   "source": [
    "reviews.dtypes\n"
   ]
  },
  {
   "cell_type": "code",
   "execution_count": 9,
   "metadata": {},
   "outputs": [
    {
     "name": "stdout",
     "output_type": "stream",
     "text": [
      "Unique countries - ['us' 'gb' 'au' 'in' 'il' 'fi' 'it' 'no' 'nl' 'ru' 'cz' 'be' 'se' 'es'\n",
      " 'br' 'fr' 'ua' 'ca' 'de' 'dk' 'nz' 'tr' 'pl' 'ch' 'pt' 'hu' 'za' 'mx'\n",
      " 'ae' 'id' 've' 'sg' 'cl' 'ar' 'ec' 'tw' 'co' 'jp' 'uy' 'pe' 'cn' 'kr']\n",
      "Number of unique countries - 42\n"
     ]
    }
   ],
   "source": [
    "unique_countries = reviews[\"country\"].unique()\n",
    "print(f\"Unique countries - {unique_countries}\")\n",
    "print(f\"Number of unique countries - {len(unique_countries)}\")"
   ]
  },
  {
   "cell_type": "code",
   "execution_count": 10,
   "metadata": {},
   "outputs": [],
   "source": [
    "def get_info_by_product(df: pd.DataFrame) -> pd.DataFrame:\n",
    "    review_count = []\n",
    "    for product, gdf in df.groupby(\"product\"):\n",
    "        review_count.append(\n",
    "            {\n",
    "                \"product\": product,\n",
    "                \"total_reviews\": len(gdf),\n",
    "                \"avg_score\": gdf[\"score\"].mean(),\n",
    "            }\n",
    "        )\n",
    "    return pd.DataFrame(review_count)"
   ]
  },
  {
   "cell_type": "code",
   "execution_count": 11,
   "metadata": {},
   "outputs": [
    {
     "data": {
      "text/html": [
       "<div>\n",
       "<style scoped>\n",
       "    .dataframe tbody tr th:only-of-type {\n",
       "        vertical-align: middle;\n",
       "    }\n",
       "\n",
       "    .dataframe tbody tr th {\n",
       "        vertical-align: top;\n",
       "    }\n",
       "\n",
       "    .dataframe thead th {\n",
       "        text-align: right;\n",
       "    }\n",
       "</style>\n",
       "<table border=\"1\" class=\"dataframe\">\n",
       "  <thead>\n",
       "    <tr style=\"text-align: right;\">\n",
       "      <th></th>\n",
       "      <th>product</th>\n",
       "      <th>total_reviews</th>\n",
       "      <th>avg_score</th>\n",
       "    </tr>\n",
       "  </thead>\n",
       "  <tbody>\n",
       "    <tr>\n",
       "      <th>23698</th>\n",
       "      <td>Lenovo Vibe K4 Note (White,16GB)</td>\n",
       "      <td>5226</td>\n",
       "      <td>7.180253</td>\n",
       "    </tr>\n",
       "    <tr>\n",
       "      <th>23697</th>\n",
       "      <td>Lenovo Vibe K4 Note (Black, 16GB)</td>\n",
       "      <td>4390</td>\n",
       "      <td>7.174032</td>\n",
       "    </tr>\n",
       "    <tr>\n",
       "      <th>34801</th>\n",
       "      <td>OnePlus 3 (Graphite, 64 GB)</td>\n",
       "      <td>4103</td>\n",
       "      <td>8.725323</td>\n",
       "    </tr>\n",
       "    <tr>\n",
       "      <th>34802</th>\n",
       "      <td>OnePlus 3 (Soft Gold, 64 GB)</td>\n",
       "      <td>3563</td>\n",
       "      <td>8.504070</td>\n",
       "    </tr>\n",
       "    <tr>\n",
       "      <th>17134</th>\n",
       "      <td>Huawei P8lite zwart / 16 GB</td>\n",
       "      <td>2707</td>\n",
       "      <td>8.447802</td>\n",
       "    </tr>\n",
       "    <tr>\n",
       "      <th>...</th>\n",
       "      <td>...</td>\n",
       "      <td>...</td>\n",
       "      <td>...</td>\n",
       "    </tr>\n",
       "    <tr>\n",
       "      <th>32662</th>\n",
       "      <td>Nokia Lumia 1020 Windows Smartphone with 41MP ...</td>\n",
       "      <td>1</td>\n",
       "      <td>8.000000</td>\n",
       "    </tr>\n",
       "    <tr>\n",
       "      <th>32659</th>\n",
       "      <td>Nokia Lumia 1020 Speck Yellow/Black CandyShell...</td>\n",
       "      <td>1</td>\n",
       "      <td>10.000000</td>\n",
       "    </tr>\n",
       "    <tr>\n",
       "      <th>32650</th>\n",
       "      <td>Nokia Lumia 1020 RM-877 AT&amp;T GSM Unlocked 32GB...</td>\n",
       "      <td>1</td>\n",
       "      <td>2.000000</td>\n",
       "    </tr>\n",
       "    <tr>\n",
       "      <th>32646</th>\n",
       "      <td>Nokia Lumia 1020 RM-877 32GB 4G LTE Black AT&amp;T...</td>\n",
       "      <td>1</td>\n",
       "      <td>10.000000</td>\n",
       "    </tr>\n",
       "    <tr>\n",
       "      <th>61312</th>\n",
       "      <td>í¸ëí° LG-SH210(LG-KH2100/LG-LH2100)ì¸ì´ì...</td>\n",
       "      <td>1</td>\n",
       "      <td>NaN</td>\n",
       "    </tr>\n",
       "  </tbody>\n",
       "</table>\n",
       "<p>61313 rows × 3 columns</p>\n",
       "</div>"
      ],
      "text/plain": [
       "                                                 product  total_reviews  \\\n",
       "23698                   Lenovo Vibe K4 Note (White,16GB)           5226   \n",
       "23697                  Lenovo Vibe K4 Note (Black, 16GB)           4390   \n",
       "34801                        OnePlus 3 (Graphite, 64 GB)           4103   \n",
       "34802                       OnePlus 3 (Soft Gold, 64 GB)           3563   \n",
       "17134                        Huawei P8lite zwart / 16 GB           2707   \n",
       "...                                                  ...            ...   \n",
       "32662  Nokia Lumia 1020 Windows Smartphone with 41MP ...              1   \n",
       "32659  Nokia Lumia 1020 Speck Yellow/Black CandyShell...              1   \n",
       "32650  Nokia Lumia 1020 RM-877 AT&T GSM Unlocked 32GB...              1   \n",
       "32646  Nokia Lumia 1020 RM-877 32GB 4G LTE Black AT&T...              1   \n",
       "61312  í¸ëí° LG-SH210(LG-KH2100/LG-LH2100)ì¸ì´ì...              1   \n",
       "\n",
       "       avg_score  \n",
       "23698   7.180253  \n",
       "23697   7.174032  \n",
       "34801   8.725323  \n",
       "34802   8.504070  \n",
       "17134   8.447802  \n",
       "...          ...  \n",
       "32662   8.000000  \n",
       "32659  10.000000  \n",
       "32650   2.000000  \n",
       "32646  10.000000  \n",
       "61312        NaN  \n",
       "\n",
       "[61313 rows x 3 columns]"
      ]
     },
     "execution_count": 11,
     "metadata": {},
     "output_type": "execute_result"
    }
   ],
   "source": [
    "get_info_by_product(reviews).sort_values(\"total_reviews\", ascending=False)"
   ]
  },
  {
   "cell_type": "code",
   "execution_count": 12,
   "metadata": {},
   "outputs": [
    {
     "name": "stdout",
     "output_type": "stream",
     "text": [
      "Number of unique products - 61314\n"
     ]
    }
   ],
   "source": [
    "print(f\"Number of unique products - {len(reviews['product'].unique())}\")\n"
   ]
  },
  {
   "cell_type": "code",
   "execution_count": 13,
   "metadata": {},
   "outputs": [
    {
     "data": {
      "text/html": [
       "<div>\n",
       "<style scoped>\n",
       "    .dataframe tbody tr th:only-of-type {\n",
       "        vertical-align: middle;\n",
       "    }\n",
       "\n",
       "    .dataframe tbody tr th {\n",
       "        vertical-align: top;\n",
       "    }\n",
       "\n",
       "    .dataframe thead th {\n",
       "        text-align: right;\n",
       "    }\n",
       "</style>\n",
       "<table border=\"1\" class=\"dataframe\">\n",
       "  <thead>\n",
       "    <tr style=\"text-align: right;\">\n",
       "      <th></th>\n",
       "      <th>count</th>\n",
       "      <th>mean</th>\n",
       "      <th>std</th>\n",
       "      <th>min</th>\n",
       "      <th>25%</th>\n",
       "      <th>50%</th>\n",
       "      <th>75%</th>\n",
       "      <th>max</th>\n",
       "    </tr>\n",
       "  </thead>\n",
       "  <tbody>\n",
       "    <tr>\n",
       "      <th>score</th>\n",
       "      <td>1351644.0</td>\n",
       "      <td>8.00706</td>\n",
       "      <td>2.616121</td>\n",
       "      <td>0.2</td>\n",
       "      <td>7.2</td>\n",
       "      <td>9.2</td>\n",
       "      <td>10.0</td>\n",
       "      <td>10.0</td>\n",
       "    </tr>\n",
       "    <tr>\n",
       "      <th>score_max</th>\n",
       "      <td>1351644.0</td>\n",
       "      <td>10.00000</td>\n",
       "      <td>0.000000</td>\n",
       "      <td>10.0</td>\n",
       "      <td>10.0</td>\n",
       "      <td>10.0</td>\n",
       "      <td>10.0</td>\n",
       "      <td>10.0</td>\n",
       "    </tr>\n",
       "  </tbody>\n",
       "</table>\n",
       "</div>"
      ],
      "text/plain": [
       "               count      mean       std   min   25%   50%   75%   max\n",
       "score      1351644.0   8.00706  2.616121   0.2   7.2   9.2  10.0  10.0\n",
       "score_max  1351644.0  10.00000  0.000000  10.0  10.0  10.0  10.0  10.0"
      ]
     },
     "execution_count": 13,
     "metadata": {},
     "output_type": "execute_result"
    }
   ],
   "source": [
    "reviews.describe().T\n"
   ]
  },
  {
   "attachments": {},
   "cell_type": "markdown",
   "metadata": {},
   "source": [
    "- There are 42 unique countries from which we've got reviews\n",
    "- Total of 61324 products have been reviewed\n",
    "- The mean rating is 8.0 and minimum rating is 0.2 with maximum of 10 for all the reviews\n",
    "- Lenovo Vibe K4 Note (White,16GB) has the highest number of reviews (But this is without handling the duplicate values)"
   ]
  },
  {
   "cell_type": "code",
   "execution_count": 14,
   "metadata": {},
   "outputs": [],
   "source": [
    "reviews[\"score\"] = reviews[\"score\"].round()"
   ]
  },
  {
   "cell_type": "code",
   "execution_count": 15,
   "metadata": {},
   "outputs": [
    {
     "data": {
      "text/plain": [
       "1042003    10.0\n",
       "1261506     8.0\n",
       "725112      1.0\n",
       "1179146    10.0\n",
       "918549      2.0\n",
       "481083      8.0\n",
       "202704      NaN\n",
       "1180718    10.0\n",
       "541703      9.0\n",
       "349963     10.0\n",
       "Name: score, dtype: float64"
      ]
     },
     "execution_count": 15,
     "metadata": {},
     "output_type": "execute_result"
    }
   ],
   "source": [
    "reviews[\"score\"].sample(10, random_state=2)"
   ]
  },
  {
   "attachments": {},
   "cell_type": "markdown",
   "metadata": {},
   "source": [
    "Since there are some NaN values present converting the dtype to int won't be possible without imputing the missing values or dropping the rows"
   ]
  },
  {
   "cell_type": "code",
   "execution_count": 16,
   "metadata": {},
   "outputs": [
    {
     "name": "stdout",
     "output_type": "stream",
     "text": [
      "Percentage missing values - \n"
     ]
    },
    {
     "data": {
      "text/plain": [
       "phone_url    0.00\n",
       "date         0.00\n",
       "lang         0.00\n",
       "country      0.00\n",
       "source       0.00\n",
       "domain       0.00\n",
       "score        4.49\n",
       "score_max    4.49\n",
       "extract      1.37\n",
       "author       4.47\n",
       "product      0.00\n",
       "dtype: float64"
      ]
     },
     "execution_count": 16,
     "metadata": {},
     "output_type": "execute_result"
    }
   ],
   "source": [
    "print(\"Percentage missing values - \")\n",
    "df = reviews.isna().sum().round(2)\n",
    "(df * 100 / reviews.shape[0]).round(2)"
   ]
  },
  {
   "cell_type": "code",
   "execution_count": 17,
   "metadata": {},
   "outputs": [],
   "source": [
    "# The missing values in author column can't be imputed\n",
    "reviews[\"score\"] = reviews[\"score\"].fillna(reviews[\"score\"].median())"
   ]
  },
  {
   "cell_type": "code",
   "execution_count": 18,
   "metadata": {},
   "outputs": [
    {
     "data": {
      "text/plain": [
       "6436"
      ]
     },
     "execution_count": 18,
     "metadata": {},
     "output_type": "execute_result"
    }
   ],
   "source": [
    "sum(reviews.duplicated())\n"
   ]
  },
  {
   "cell_type": "code",
   "execution_count": 19,
   "metadata": {},
   "outputs": [],
   "source": [
    "reviews.drop_duplicates(inplace=True)\n"
   ]
  },
  {
   "cell_type": "code",
   "execution_count": 20,
   "metadata": {},
   "outputs": [],
   "source": [
    "sampled_reviews = reviews.sample(1_000_000, random_state=612)\n"
   ]
  },
  {
   "cell_type": "code",
   "execution_count": 21,
   "metadata": {},
   "outputs": [
    {
     "data": {
      "text/plain": [
       "1000000"
      ]
     },
     "execution_count": 21,
     "metadata": {},
     "output_type": "execute_result"
    }
   ],
   "source": [
    "len(sampled_reviews)\n"
   ]
  },
  {
   "cell_type": "code",
   "execution_count": 22,
   "metadata": {},
   "outputs": [],
   "source": [
    "# Dropping irrelevant features\n",
    "\n",
    "df = sampled_reviews[[\"country\", \"source\", \"domain\", \"score\", \"author\", \"product\"]]"
   ]
  },
  {
   "cell_type": "code",
   "execution_count": 23,
   "metadata": {},
   "outputs": [
    {
     "data": {
      "text/html": [
       "<div>\n",
       "<style scoped>\n",
       "    .dataframe tbody tr th:only-of-type {\n",
       "        vertical-align: middle;\n",
       "    }\n",
       "\n",
       "    .dataframe tbody tr th {\n",
       "        vertical-align: top;\n",
       "    }\n",
       "\n",
       "    .dataframe thead th {\n",
       "        text-align: right;\n",
       "    }\n",
       "</style>\n",
       "<table border=\"1\" class=\"dataframe\">\n",
       "  <thead>\n",
       "    <tr style=\"text-align: right;\">\n",
       "      <th></th>\n",
       "      <th>country</th>\n",
       "      <th>source</th>\n",
       "      <th>domain</th>\n",
       "      <th>score</th>\n",
       "      <th>author</th>\n",
       "      <th>product</th>\n",
       "    </tr>\n",
       "  </thead>\n",
       "  <tbody>\n",
       "    <tr>\n",
       "      <th>430175</th>\n",
       "      <td>in</td>\n",
       "      <td>Amazon</td>\n",
       "      <td>amazon.in</td>\n",
       "      <td>8.0</td>\n",
       "      <td>Vinod Kumar Chengespur</td>\n",
       "      <td>Lenovo Vibe K4 Note (White,16GB)</td>\n",
       "    </tr>\n",
       "    <tr>\n",
       "      <th>587153</th>\n",
       "      <td>us</td>\n",
       "      <td>Amazon</td>\n",
       "      <td>amazon.com</td>\n",
       "      <td>2.0</td>\n",
       "      <td>Sharon</td>\n",
       "      <td>HTC Desire 816 Black (Virgin mobile) - 5.5 inc...</td>\n",
       "    </tr>\n",
       "    <tr>\n",
       "      <th>594786</th>\n",
       "      <td>gb</td>\n",
       "      <td>Amazon</td>\n",
       "      <td>amazon.co.uk</td>\n",
       "      <td>8.0</td>\n",
       "      <td>An Sionnach</td>\n",
       "      <td>Xperia Sony Xperia Z Ultra SIM-free Android Sm...</td>\n",
       "    </tr>\n",
       "    <tr>\n",
       "      <th>636378</th>\n",
       "      <td>in</td>\n",
       "      <td>Amazon</td>\n",
       "      <td>amazon.in</td>\n",
       "      <td>2.0</td>\n",
       "      <td>Jomine Jose</td>\n",
       "      <td>Lava Iris X5 (Black)</td>\n",
       "    </tr>\n",
       "    <tr>\n",
       "      <th>684532</th>\n",
       "      <td>us</td>\n",
       "      <td>Amazon</td>\n",
       "      <td>amazon.com</td>\n",
       "      <td>8.0</td>\n",
       "      <td>Walter</td>\n",
       "      <td>Sony Xperia L C2104 Unlocked Phone--U.S. Warra...</td>\n",
       "    </tr>\n",
       "  </tbody>\n",
       "</table>\n",
       "</div>"
      ],
      "text/plain": [
       "       country  source        domain  score                  author  \\\n",
       "430175      in  Amazon     amazon.in    8.0  Vinod Kumar Chengespur   \n",
       "587153      us  Amazon    amazon.com    2.0                  Sharon   \n",
       "594786      gb  Amazon  amazon.co.uk    8.0             An Sionnach   \n",
       "636378      in  Amazon     amazon.in    2.0             Jomine Jose   \n",
       "684532      us  Amazon    amazon.com    8.0                  Walter   \n",
       "\n",
       "                                                  product  \n",
       "430175                   Lenovo Vibe K4 Note (White,16GB)  \n",
       "587153  HTC Desire 816 Black (Virgin mobile) - 5.5 inc...  \n",
       "594786  Xperia Sony Xperia Z Ultra SIM-free Android Sm...  \n",
       "636378                               Lava Iris X5 (Black)  \n",
       "684532  Sony Xperia L C2104 Unlocked Phone--U.S. Warra...  "
      ]
     },
     "execution_count": 23,
     "metadata": {},
     "output_type": "execute_result"
    }
   ],
   "source": [
    "df.head()\n"
   ]
  },
  {
   "cell_type": "code",
   "execution_count": 24,
   "metadata": {},
   "outputs": [
    {
     "data": {
      "text/plain": [
       "<Axes: xlabel='total_reviews', ylabel='product'>"
      ]
     },
     "execution_count": 24,
     "metadata": {},
     "output_type": "execute_result"
    },
    {
     "data": {
      "image/png": "[encoded data removed]",
      "text/plain": [
       "<Figure size 640x480 with 1 Axes>"
      ]
     },
     "metadata": {},
     "output_type": "display_data"
    }
   ],
   "source": [
    "# top five most rated products\n",
    "\n",
    "sns.barplot(\n",
    "    get_info_by_product(df).sort_values(by=\"total_reviews\", ascending=False)[0:5],\n",
    "    y=\"product\",\n",
    "    x=\"total_reviews\",\n",
    ")"
   ]
  },
  {
   "cell_type": "code",
   "execution_count": 25,
   "metadata": {},
   "outputs": [
    {
     "data": {
      "text/html": [
       "<div>\n",
       "<style scoped>\n",
       "    .dataframe tbody tr th:only-of-type {\n",
       "        vertical-align: middle;\n",
       "    }\n",
       "\n",
       "    .dataframe tbody tr th {\n",
       "        vertical-align: top;\n",
       "    }\n",
       "\n",
       "    .dataframe thead th {\n",
       "        text-align: right;\n",
       "    }\n",
       "</style>\n",
       "<table border=\"1\" class=\"dataframe\">\n",
       "  <thead>\n",
       "    <tr style=\"text-align: right;\">\n",
       "      <th></th>\n",
       "      <th>product</th>\n",
       "      <th>total_reviews</th>\n",
       "      <th>avg_score</th>\n",
       "    </tr>\n",
       "  </thead>\n",
       "  <tbody>\n",
       "    <tr>\n",
       "      <th>0</th>\n",
       "      <td>'Sony Xperia X (F5122) â White â Dual Sim ...</td>\n",
       "      <td>1</td>\n",
       "      <td>10.0</td>\n",
       "    </tr>\n",
       "    <tr>\n",
       "      <th>10516</th>\n",
       "      <td>Elegiant THL 5000 Smartphone 5.0 \"Android4.4 M...</td>\n",
       "      <td>1</td>\n",
       "      <td>10.0</td>\n",
       "    </tr>\n",
       "    <tr>\n",
       "      <th>37792</th>\n",
       "      <td>Samsung Galaxy Fame S6810 Unlocked GSM Android...</td>\n",
       "      <td>3</td>\n",
       "      <td>10.0</td>\n",
       "    </tr>\n",
       "    <tr>\n",
       "      <th>37782</th>\n",
       "      <td>Samsung Galaxy Fame Lite GT-S6790 - Smartphone...</td>\n",
       "      <td>1</td>\n",
       "      <td>10.0</td>\n",
       "    </tr>\n",
       "    <tr>\n",
       "      <th>37776</th>\n",
       "      <td>Samsung Galaxy Fame LITE - Black - Smartphone ...</td>\n",
       "      <td>1</td>\n",
       "      <td>10.0</td>\n",
       "    </tr>\n",
       "  </tbody>\n",
       "</table>\n",
       "</div>"
      ],
      "text/plain": [
       "                                                 product  total_reviews  \\\n",
       "0      'Sony Xperia X (F5122) â White â Dual Sim ...              1   \n",
       "10516  Elegiant THL 5000 Smartphone 5.0 \"Android4.4 M...              1   \n",
       "37792  Samsung Galaxy Fame S6810 Unlocked GSM Android...              3   \n",
       "37782  Samsung Galaxy Fame Lite GT-S6790 - Smartphone...              1   \n",
       "37776  Samsung Galaxy Fame LITE - Black - Smartphone ...              1   \n",
       "\n",
       "       avg_score  \n",
       "0           10.0  \n",
       "10516       10.0  \n",
       "37792       10.0  \n",
       "37782       10.0  \n",
       "37776       10.0  "
      ]
     },
     "execution_count": 25,
     "metadata": {},
     "output_type": "execute_result"
    }
   ],
   "source": [
    "# products with high rating\n",
    "get_info_by_product(df).sort_values(by=\"avg_score\", ascending=False)[0:5]"
   ]
  },
  {
   "attachments": {},
   "cell_type": "markdown",
   "metadata": {},
   "source": [
    "- It's possible that the product is relatively new or not well-known, so it hasn't had many reviews yet. \n",
    "- In this case, the high rating could be due to the fact that the few customers who have tried the product are particularly satisfied, but it could also be a coincidence or a result of selection bias."
   ]
  },
  {
   "cell_type": "code",
   "execution_count": 26,
   "metadata": {},
   "outputs": [
    {
     "data": {
      "text/html": [
       "<div>\n",
       "<style scoped>\n",
       "    .dataframe tbody tr th:only-of-type {\n",
       "        vertical-align: middle;\n",
       "    }\n",
       "\n",
       "    .dataframe tbody tr th {\n",
       "        vertical-align: top;\n",
       "    }\n",
       "\n",
       "    .dataframe thead th {\n",
       "        text-align: right;\n",
       "    }\n",
       "</style>\n",
       "<table border=\"1\" class=\"dataframe\">\n",
       "  <thead>\n",
       "    <tr style=\"text-align: right;\">\n",
       "      <th></th>\n",
       "      <th>author</th>\n",
       "      <th>avg_score</th>\n",
       "      <th>products_reviewed</th>\n",
       "      <th>total_reviews</th>\n",
       "    </tr>\n",
       "  </thead>\n",
       "  <tbody>\n",
       "    <tr>\n",
       "      <th>0</th>\n",
       "      <td>efef</td>\n",
       "      <td>10.0</td>\n",
       "      <td>1</td>\n",
       "      <td>1</td>\n",
       "    </tr>\n",
       "    <tr>\n",
       "      <th>1</th>\n",
       "      <td>!</td>\n",
       "      <td>9.0</td>\n",
       "      <td>1</td>\n",
       "      <td>1</td>\n",
       "    </tr>\n",
       "    <tr>\n",
       "      <th>2</th>\n",
       "      <td>!!!!!!!!!!!!!!!!!!!!!!!!!!!!</td>\n",
       "      <td>10.0</td>\n",
       "      <td>1</td>\n",
       "      <td>1</td>\n",
       "    </tr>\n",
       "    <tr>\n",
       "      <th>3</th>\n",
       "      <td>!!!JOSE\"ANTONIO\"</td>\n",
       "      <td>10.0</td>\n",
       "      <td>1</td>\n",
       "      <td>1</td>\n",
       "    </tr>\n",
       "    <tr>\n",
       "      <th>4</th>\n",
       "      <td>!!:. PuNi$heR .:!!</td>\n",
       "      <td>10.0</td>\n",
       "      <td>1</td>\n",
       "      <td>1</td>\n",
       "    </tr>\n",
       "  </tbody>\n",
       "</table>\n",
       "</div>"
      ],
      "text/plain": [
       "                         author  avg_score  products_reviewed  total_reviews\n",
       "0                          efef       10.0                  1              1\n",
       "1                             !        9.0                  1              1\n",
       "2  !!!!!!!!!!!!!!!!!!!!!!!!!!!!       10.0                  1              1\n",
       "3              !!!JOSE\"ANTONIO\"       10.0                  1              1\n",
       "4            !!:. PuNi$heR .:!!       10.0                  1              1"
      ]
     },
     "execution_count": 26,
     "metadata": {},
     "output_type": "execute_result"
    }
   ],
   "source": [
    "reviews_by_author = []\n",
    "for user, gdf in df.groupby(\"author\"):\n",
    "    reviews_by_author.append(\n",
    "        {\n",
    "            \"author\": user,\n",
    "            \"avg_score\": gdf[\"score\"].mean(),\n",
    "            \"products_reviewed\": len(gdf[\"product\"].unique()),\n",
    "            \"total_reviews\": len(gdf),\n",
    "        }\n",
    "    )\n",
    "\n",
    "reviews_by_author_df = pd.DataFrame(reviews_by_author)\n",
    "reviews_by_author_df.head()"
   ]
  },
  {
   "cell_type": "code",
   "execution_count": 27,
   "metadata": {},
   "outputs": [
    {
     "data": {
      "text/plain": [
       "<Axes: xlabel='total_reviews', ylabel='author'>"
      ]
     },
     "execution_count": 27,
     "metadata": {},
     "output_type": "execute_result"
    },
    {
     "data": {
      "image/png": "[encoded data removed]",
      "text/plain": [
       "<Figure size 640x480 with 1 Axes>"
      ]
     },
     "metadata": {},
     "output_type": "display_data"
    }
   ],
   "source": [
    "# Top five users with most number of reviews\n",
    "sns.barplot(\n",
    "    reviews_by_author_df.sort_values(\"total_reviews\", ascending=False)[0:5],\n",
    "    y=\"author\",\n",
    "    x=\"total_reviews\",\n",
    ")"
   ]
  },
  {
   "attachments": {},
   "cell_type": "markdown",
   "metadata": {},
   "source": [
    "In this case the user providing most reviews is probably an anonymous 'Amazon Cutomer' "
   ]
  },
  {
   "cell_type": "code",
   "execution_count": 28,
   "metadata": {},
   "outputs": [
    {
     "data": {
      "text/plain": [
       "(556118, 6)"
      ]
     },
     "execution_count": 28,
     "metadata": {},
     "output_type": "execute_result"
    }
   ],
   "source": [
    "# first filter products then users\n",
    "product_counts = df[\"product\"].value_counts()\n",
    "popular_products = product_counts[product_counts > 50].index\n",
    "df_popular_products = df[df[\"product\"].isin(popular_products)]\n",
    "df_popular_products.shape\n"
   ]
  },
  {
   "cell_type": "code",
   "execution_count": 29,
   "metadata": {},
   "outputs": [
    {
     "data": {
      "text/plain": [
       "author\n",
       "Amazon Customer          40421\n",
       "Cliente Amazon            6883\n",
       "e-bit                     4798\n",
       "Client d'Amazon           2564\n",
       "Amazon Kunde              2079\n",
       "                         ...  \n",
       "manuela rosetti              1\n",
       "christina rose               1\n",
       "Mary Alice D.                1\n",
       "Nils Henning Deitmers        1\n",
       "Monalisa                     1\n",
       "Name: count, Length: 347229, dtype: int64"
      ]
     },
     "execution_count": 29,
     "metadata": {},
     "output_type": "execute_result"
    }
   ],
   "source": [
    "df_popular_products[\"author\"].value_counts()\n"
   ]
  },
  {
   "cell_type": "code",
   "execution_count": 30,
   "metadata": {},
   "outputs": [
    {
     "data": {
      "text/plain": [
       "(89141, 6)"
      ]
     },
     "execution_count": 30,
     "metadata": {},
     "output_type": "execute_result"
    }
   ],
   "source": [
    "# use df from previous result to filter popular users\n",
    "user_counts = df_popular_products[\"author\"].value_counts()\n",
    "prolific_users = user_counts[user_counts > 50].index\n",
    "df_final = df_popular_products[df_popular_products[\"author\"].isin(prolific_users)]\n",
    "\n",
    "df_final.shape\n"
   ]
  },
  {
   "cell_type": "code",
   "execution_count": 31,
   "metadata": {},
   "outputs": [
    {
     "data": {
      "text/html": [
       "<div>\n",
       "<style scoped>\n",
       "    .dataframe tbody tr th:only-of-type {\n",
       "        vertical-align: middle;\n",
       "    }\n",
       "\n",
       "    .dataframe tbody tr th {\n",
       "        vertical-align: top;\n",
       "    }\n",
       "\n",
       "    .dataframe thead th {\n",
       "        text-align: right;\n",
       "    }\n",
       "</style>\n",
       "<table border=\"1\" class=\"dataframe\">\n",
       "  <thead>\n",
       "    <tr style=\"text-align: right;\">\n",
       "      <th></th>\n",
       "      <th>product</th>\n",
       "      <th>total_reviews</th>\n",
       "      <th>avg_score</th>\n",
       "    </tr>\n",
       "  </thead>\n",
       "  <tbody>\n",
       "    <tr>\n",
       "      <th>1388</th>\n",
       "      <td>Lenovo Vibe K4 Note (White,16GB)</td>\n",
       "      <td>2178</td>\n",
       "      <td>6.979798</td>\n",
       "    </tr>\n",
       "    <tr>\n",
       "      <th>1387</th>\n",
       "      <td>Lenovo Vibe K4 Note (Black, 16GB)</td>\n",
       "      <td>1762</td>\n",
       "      <td>7.051078</td>\n",
       "    </tr>\n",
       "    <tr>\n",
       "      <th>2184</th>\n",
       "      <td>OnePlus 3 (Graphite, 64 GB)</td>\n",
       "      <td>1296</td>\n",
       "      <td>8.530864</td>\n",
       "    </tr>\n",
       "    <tr>\n",
       "      <th>2185</th>\n",
       "      <td>OnePlus 3 (Soft Gold, 64 GB)</td>\n",
       "      <td>1211</td>\n",
       "      <td>8.325351</td>\n",
       "    </tr>\n",
       "    <tr>\n",
       "      <th>1389</th>\n",
       "      <td>Lenovo Vibe K5 (Gold, VoLTE update)</td>\n",
       "      <td>1102</td>\n",
       "      <td>6.557169</td>\n",
       "    </tr>\n",
       "  </tbody>\n",
       "</table>\n",
       "</div>"
      ],
      "text/plain": [
       "                                  product  total_reviews  avg_score\n",
       "1388     Lenovo Vibe K4 Note (White,16GB)           2178   6.979798\n",
       "1387    Lenovo Vibe K4 Note (Black, 16GB)           1762   7.051078\n",
       "2184          OnePlus 3 (Graphite, 64 GB)           1296   8.530864\n",
       "2185         OnePlus 3 (Soft Gold, 64 GB)           1211   8.325351\n",
       "1389  Lenovo Vibe K5 (Gold, VoLTE update)           1102   6.557169"
      ]
     },
     "execution_count": 31,
     "metadata": {},
     "output_type": "execute_result"
    }
   ],
   "source": [
    "# Using df from previous cell\n",
    "get_info_by_product(df_final).sort_values(\n",
    "    by=[\"total_reviews\", \"avg_score\"], ascending=False\n",
    ")[0:5]\n"
   ]
  },
  {
   "cell_type": "code",
   "execution_count": 32,
   "metadata": {},
   "outputs": [
    {
     "data": {
      "text/html": [
       "<div>\n",
       "<style scoped>\n",
       "    .dataframe tbody tr th:only-of-type {\n",
       "        vertical-align: middle;\n",
       "    }\n",
       "\n",
       "    .dataframe tbody tr th {\n",
       "        vertical-align: top;\n",
       "    }\n",
       "\n",
       "    .dataframe thead th {\n",
       "        text-align: right;\n",
       "    }\n",
       "</style>\n",
       "<table border=\"1\" class=\"dataframe\">\n",
       "  <thead>\n",
       "    <tr style=\"text-align: right;\">\n",
       "      <th></th>\n",
       "      <th>product</th>\n",
       "      <th>total_reviews</th>\n",
       "      <th>avg_score</th>\n",
       "    </tr>\n",
       "  </thead>\n",
       "  <tbody>\n",
       "    <tr>\n",
       "      <th>21820</th>\n",
       "      <td>Lenovo Vibe K4 Note (White,16GB)</td>\n",
       "      <td>3709</td>\n",
       "      <td>7.176597</td>\n",
       "    </tr>\n",
       "    <tr>\n",
       "      <th>21819</th>\n",
       "      <td>Lenovo Vibe K4 Note (Black, 16GB)</td>\n",
       "      <td>3083</td>\n",
       "      <td>7.200130</td>\n",
       "    </tr>\n",
       "    <tr>\n",
       "      <th>32017</th>\n",
       "      <td>OnePlus 3 (Graphite, 64 GB)</td>\n",
       "      <td>2890</td>\n",
       "      <td>8.737716</td>\n",
       "    </tr>\n",
       "    <tr>\n",
       "      <th>32018</th>\n",
       "      <td>OnePlus 3 (Soft Gold, 64 GB)</td>\n",
       "      <td>2522</td>\n",
       "      <td>8.503569</td>\n",
       "    </tr>\n",
       "    <tr>\n",
       "      <th>37761</th>\n",
       "      <td>Samsung Galaxy Express I8730</td>\n",
       "      <td>1898</td>\n",
       "      <td>9.002107</td>\n",
       "    </tr>\n",
       "  </tbody>\n",
       "</table>\n",
       "</div>"
      ],
      "text/plain": [
       "                                 product  total_reviews  avg_score\n",
       "21820   Lenovo Vibe K4 Note (White,16GB)           3709   7.176597\n",
       "21819  Lenovo Vibe K4 Note (Black, 16GB)           3083   7.200130\n",
       "32017        OnePlus 3 (Graphite, 64 GB)           2890   8.737716\n",
       "32018       OnePlus 3 (Soft Gold, 64 GB)           2522   8.503569\n",
       "37761       Samsung Galaxy Express I8730           1898   9.002107"
      ]
     },
     "execution_count": 32,
     "metadata": {},
     "output_type": "execute_result"
    }
   ],
   "source": [
    "# Using the original df\n",
    "get_info_by_product(df).sort_values(by=[\"total_reviews\", \"avg_score\"], ascending=False)[\n",
    "    0:5\n",
    "]\n"
   ]
  },
  {
   "attachments": {},
   "cell_type": "markdown",
   "metadata": {},
   "source": [
    "Here using 'total_reviews' as first filter and then 'avg_score' as second filter provides the result where more priority is given to products with most number of reviews"
   ]
  },
  {
   "attachments": {},
   "cell_type": "markdown",
   "metadata": {},
   "source": [
    "A collaborative filtering model using SVD"
   ]
  },
  {
   "cell_type": "code",
   "execution_count": 33,
   "metadata": {},
   "outputs": [],
   "source": [
    "review_50 = Dataset.load_from_df(\n",
    "    df_final[[\"author\", \"product\", \"score\"]], Reader(rating_scale=(1, 10))\n",
    ")\n",
    "train_set, test_set = train_test_split(review_50, test_size=0.25, random_state=612)\n"
   ]
  },
  {
   "cell_type": "code",
   "execution_count": 34,
   "metadata": {},
   "outputs": [
    {
     "data": {
      "text/plain": [
       "<surprise.prediction_algorithms.matrix_factorization.SVD at 0x351c09490>"
      ]
     },
     "execution_count": 34,
     "metadata": {},
     "output_type": "execute_result"
    }
   ],
   "source": [
    "svd = SVD(random_state=612)\n",
    "svd.fit(train_set)"
   ]
  },
  {
   "cell_type": "code",
   "execution_count": 35,
   "metadata": {},
   "outputs": [
    {
     "data": {
      "text/plain": [
       "[Prediction(uid='Amazon Customer', iid='Sony Xperia XA Dual (Lime Gold)', r_ui=2.0, est=5.666830421515721, details={'was_impossible': False}),\n",
       " Prediction(uid='Cliente Amazon', iid='Samsung G935 Galaxy S7 Edge Smartphone da 32GB, Argento [Italia]', r_ui=10.0, est=8.963796746817252, details={'was_impossible': False})]"
      ]
     },
     "execution_count": 35,
     "metadata": {},
     "output_type": "execute_result"
    }
   ],
   "source": [
    "svd_pred = svd.test(test_set)\n",
    "svd_pred[0:2]"
   ]
  },
  {
   "cell_type": "code",
   "execution_count": 36,
   "metadata": {},
   "outputs": [
    {
     "name": "stdout",
     "output_type": "stream",
     "text": [
      "Computing the msd similarity matrix...\n",
      "Done computing similarity matrix.\n"
     ]
    },
    {
     "data": {
      "text/plain": [
       "[Prediction(uid='Amazon Customer', iid='Sony Xperia XA Dual (Lime Gold)', r_ui=2.0, est=7.1, details={'actual_k': 40, 'was_impossible': False}),\n",
       " Prediction(uid='Cliente Amazon', iid='Samsung G935 Galaxy S7 Edge Smartphone da 32GB, Argento [Italia]', r_ui=10.0, est=8.65, details={'actual_k': 40, 'was_impossible': False}),\n",
       " Prediction(uid='Ð\\x94Ð¼Ð¸Ñ\\x82Ñ\\x80Ð¸Ð¹', iid='Nokia 5230 Navigation Edition', r_ui=8.0, est=8.970051072402065, details={'actual_k': 40, 'was_impossible': False}),\n",
       " Prediction(uid='Cliente Amazon', iid='Samsung A300 Galaxy A3 Smartphone, 16 GB, Bianco [Italia]', r_ui=8.0, est=8.464521950254863, details={'actual_k': 40, 'was_impossible': False}),\n",
       " Prediction(uid='Cliente Amazon', iid='Alcatel One Touch 20-04G Telefono Cellulare, Nero', r_ui=8.0, est=8.5, details={'actual_k': 40, 'was_impossible': False})]"
      ]
     },
     "execution_count": 36,
     "metadata": {},
     "output_type": "execute_result"
    }
   ],
   "source": [
    "# Item Based\n",
    "knn_item_based = KNNWithMeans(sim_options={\"user_based\": False})\n",
    "knn_item_based.fit(train_set)\n",
    "knn_pred_item = knn_item_based.test(test_set)\n",
    "knn_pred_item[0:5]"
   ]
  },
  {
   "cell_type": "code",
   "execution_count": 37,
   "metadata": {},
   "outputs": [
    {
     "name": "stdout",
     "output_type": "stream",
     "text": [
      "Computing the msd similarity matrix...\n",
      "Done computing similarity matrix.\n"
     ]
    },
    {
     "data": {
      "text/plain": [
       "[Prediction(uid='Amazon Customer', iid='Sony Xperia XA Dual (Lime Gold)', r_ui=2.0, est=7.1, details={'actual_k': 40, 'was_impossible': False}),\n",
       " Prediction(uid='Cliente Amazon', iid='Samsung G935 Galaxy S7 Edge Smartphone da 32GB, Argento [Italia]', r_ui=10.0, est=8.65, details={'actual_k': 40, 'was_impossible': False}),\n",
       " Prediction(uid='Ð\\x94Ð¼Ð¸Ñ\\x82Ñ\\x80Ð¸Ð¹', iid='Nokia 5230 Navigation Edition', r_ui=8.0, est=8.881468424416978, details={'actual_k': 22, 'was_impossible': False}),\n",
       " Prediction(uid='Cliente Amazon', iid='Samsung A300 Galaxy A3 Smartphone, 16 GB, Bianco [Italia]', r_ui=8.0, est=8.472856699181397, details={'actual_k': 28, 'was_impossible': False}),\n",
       " Prediction(uid='Cliente Amazon', iid='Alcatel One Touch 20-04G Telefono Cellulare, Nero', r_ui=8.0, est=8.5, details={'actual_k': 40, 'was_impossible': False})]"
      ]
     },
     "execution_count": 37,
     "metadata": {},
     "output_type": "execute_result"
    }
   ],
   "source": [
    "knn_user_based = KNNWithMeans(sim_options={\"user_based\": True})\n",
    "knn_user_based.fit(train_set)\n",
    "knn_pred_user = knn_user_based.test(test_set)\n",
    "knn_pred_user[0:5]"
   ]
  },
  {
   "cell_type": "code",
   "execution_count": 38,
   "metadata": {},
   "outputs": [
    {
     "name": "stdout",
     "output_type": "stream",
     "text": [
      "RMSE: 2.6844\n",
      "RMSE: 2.7109\n",
      "RMSE: 2.6992\n"
     ]
    }
   ],
   "source": [
    "rmse_svd = accuracy.rmse(svd_pred)\n",
    "rmse_item_based = accuracy.rmse(knn_pred_item)\n",
    "rmse_user_based = accuracy.rmse(knn_pred_user)"
   ]
  },
  {
   "cell_type": "code",
   "execution_count": 39,
   "metadata": {},
   "outputs": [
    {
     "name": "stdout",
     "output_type": "stream",
     "text": [
      "RMSE for SVD - 2.684413593198293\n",
      "RMSE for KNN Item Based - 2.7109202114869935\n",
      "RMSE for KNN User Based - 2.6992264916825617\n"
     ]
    }
   ],
   "source": [
    "print(f\"RMSE for SVD - {rmse_svd}\")\n",
    "print(f\"RMSE for KNN Item Based - {rmse_item_based}\")\n",
    "print(f\"RMSE for KNN User Based - {rmse_user_based}\")\n"
   ]
  },
  {
   "cell_type": "code",
   "execution_count": 40,
   "metadata": {},
   "outputs": [
    {
     "name": "stdout",
     "output_type": "stream",
     "text": [
      " Average rating for SVD model - 7.757625353578636\n",
      " Average rating for KNN Item based model - 7.786648136379793\n",
      " Average rating for KNN user based model - 7.826098584580364\n"
     ]
    }
   ],
   "source": [
    "print(f\" Average rating for SVD model - {np.mean([pred.est for pred in svd_pred])}\")\n",
    "print(\n",
    "    f\" Average rating for KNN Item based model - {np.mean([pred.est for pred in knn_pred_item])}\"\n",
    ")\n",
    "print(\n",
    "    f\" Average rating for KNN user based model - {np.mean([pred.est for pred in knn_pred_user])}\"\n",
    ")"
   ]
  },
  {
   "attachments": {},
   "cell_type": "markdown",
   "metadata": {},
   "source": [
    "Findings and inferences."
   ]
  },
  {
   "attachments": {},
   "cell_type": "markdown",
   "metadata": {},
   "source": [
    "- Lenovo and Samsung Galaxy seems to be most popular and highly rated phone segments.\n",
    "- RMSE for KNN item based and user based are almost similar.\n",
    "- Overall data is highly skewed towards _Amazon customers_ from different countries. This may also be because 'Amazon' is the biggest trader for phones in the world. "
   ]
  },
  {
   "cell_type": "code",
   "execution_count": 41,
   "metadata": {},
   "outputs": [
    {
     "data": {
      "text/plain": [
       "[Prediction(uid='Amazon Customer', iid='Sony Xperia XA Dual (Lime Gold)', r_ui=2.0, est=7.1, details={'actual_k': 40, 'was_impossible': False}),\n",
       " Prediction(uid='Cliente Amazon', iid='Samsung G935 Galaxy S7 Edge Smartphone da 32GB, Argento [Italia]', r_ui=10.0, est=8.65, details={'actual_k': 40, 'was_impossible': False}),\n",
       " Prediction(uid='Ð\\x94Ð¼Ð¸Ñ\\x82Ñ\\x80Ð¸Ð¹', iid='Nokia 5230 Navigation Edition', r_ui=8.0, est=8.970051072402065, details={'actual_k': 40, 'was_impossible': False})]"
      ]
     },
     "execution_count": 41,
     "metadata": {},
     "output_type": "execute_result"
    }
   ],
   "source": [
    "knn_pred_item[0:3]"
   ]
  },
  {
   "cell_type": "code",
   "execution_count": 42,
   "metadata": {},
   "outputs": [],
   "source": [
    "\n",
    "def get_top_n_recommendations(predictions: List[Prediction], n=5):\n",
    "    top_n = defaultdict(list) # start with default list\n",
    "\t# Mapping prediction\n",
    "    for uid, iid, true_rating, estimated_rating, _ in predictions:\n",
    "        top_n[uid].append((iid, estimated_rating))\n",
    "\n",
    "    # Post mapping sort within the \n",
    "    for uid, user_ratings in top_n.items():\n",
    "\t\t# sort within user rating for higher estimated rating\n",
    "        user_ratings.sort(key=lambda x: x[1], reverse=True)\n",
    "        top_n[uid] = user_ratings[:n]\n",
    "\n",
    "    return top_n"
   ]
  },
  {
   "cell_type": "code",
   "execution_count": 43,
   "metadata": {},
   "outputs": [],
   "source": [
    "top5_recomm = get_top_n_recommendations(knn_pred_item)"
   ]
  },
  {
   "cell_type": "code",
   "execution_count": 44,
   "metadata": {},
   "outputs": [
    {
     "data": {
      "text/plain": [
       "[('Sony Xperia E1 UK SIM-Free Smartphone - Black', 10),\n",
       " ('Lenovo Motorola Moto G Smartphone (11,4 cm (4,5 Zoll) HD-Display, 5 Megapixel Kamera, 1,2 GHz Quad-Core-Prozessor, 8 GB interner Speicher, Android 4.3 OS) schwarz',\n",
       "  10),\n",
       " ('LG VX9700 Dare Verizon', 10),\n",
       " ('Cubot X9 Unlocked Cell Phone 5.0 inch Octa Core MTK6592 2GB RAM 16GB ROM Android 4.4 (Black)',\n",
       "  10),\n",
       " ('Lenovo Motorola Moto G Smartphone, Display HD 4,5\", Processore Qualcomm, Memoria 8 GB, MicroSIM, Android 4.4 OS, Fotocamera da 5 MP, Nero [Germania]',\n",
       "  10)]"
      ]
     },
     "execution_count": 44,
     "metadata": {},
     "output_type": "execute_result"
    }
   ],
   "source": [
    "top5_recomm['Amazon Customer']"
   ]
  },
  {
   "cell_type": "code",
   "execution_count": 45,
   "metadata": {},
   "outputs": [],
   "source": [
    "top_5_recomm_df = pd.DataFrame.from_dict(top5_recomm, orient='index')"
   ]
  },
  {
   "cell_type": "code",
   "execution_count": 46,
   "metadata": {},
   "outputs": [
    {
     "data": {
      "text/html": [
       "<div>\n",
       "<style scoped>\n",
       "    .dataframe tbody tr th:only-of-type {\n",
       "        vertical-align: middle;\n",
       "    }\n",
       "\n",
       "    .dataframe tbody tr th {\n",
       "        vertical-align: top;\n",
       "    }\n",
       "\n",
       "    .dataframe thead th {\n",
       "        text-align: right;\n",
       "    }\n",
       "</style>\n",
       "<table border=\"1\" class=\"dataframe\">\n",
       "  <thead>\n",
       "    <tr style=\"text-align: right;\">\n",
       "      <th></th>\n",
       "      <th>0</th>\n",
       "      <th>1</th>\n",
       "      <th>2</th>\n",
       "      <th>3</th>\n",
       "      <th>4</th>\n",
       "    </tr>\n",
       "  </thead>\n",
       "  <tbody>\n",
       "    <tr>\n",
       "      <th>Gabriele</th>\n",
       "      <td>(Lenovo Motorola Moto G Smartphone, Display HD...</td>\n",
       "      <td>(Acer Liquid E2 Duo Smartphone, Bianco [Franci...</td>\n",
       "      <td>(Lenovo Motorola Moto G 4G 3 Generazione Smart...</td>\n",
       "      <td>(Asus ZenFone 2 Smartphone, Schermo da 5.5\" Fu...</td>\n",
       "      <td>(Asus ZenFone 2 Smartphone, Schermo da 5.5\" Fu...</td>\n",
       "    </tr>\n",
       "    <tr>\n",
       "      <th>Max</th>\n",
       "      <td>(Nokia Lumia 800 Cyan Blue, 10)</td>\n",
       "      <td>(Samsung Galaxy Grand Prime Dual Sim Factory U...</td>\n",
       "      <td>(Samsung Galaxy S6 Smartphone (5,1 Zoll (12,9 ...</td>\n",
       "      <td>(Huawei Ascend Mate 7 Smartphone, Display IPS ...</td>\n",
       "      <td>(Microsoft Nokia 101 Dual-SIM Handy (4,6 cm (1...</td>\n",
       "    </tr>\n",
       "    <tr>\n",
       "      <th>Tina</th>\n",
       "      <td>(Samsung E1150 Handy (extralange Akkulaufzeit)...</td>\n",
       "      <td>(HTC Desire Sim Free Mobile Phone - Mocha, 10)</td>\n",
       "      <td>(Microsoft Nokia C7-00 Smartphone (8.89cm (3.5...</td>\n",
       "      <td>(Nokia 6310i silver (GPRS, Bluetooth, HSCSD, W...</td>\n",
       "      <td>(Huawei P8 Lite Smartphone, Display 5\" IPS, Pr...</td>\n",
       "    </tr>\n",
       "    <tr>\n",
       "      <th>Chris</th>\n",
       "      <td>(Sharp GX15, 10)</td>\n",
       "      <td>(Sim Free Apple iPhone 5S 16GB Mobile Phone - ...</td>\n",
       "      <td>(APPLE iPhone 7 Plus - Gold, 32 GB, 9.99717036...</td>\n",
       "      <td>(Nokia 5610 XpressMusic, 9.819557930987013)</td>\n",
       "      <td>(Samsung Galaxy S7 goud, roze / 32 GB, 9.68448...</td>\n",
       "    </tr>\n",
       "    <tr>\n",
       "      <th>Silvia</th>\n",
       "      <td>(LG Electronics GS290 Cookie Fresh Handy (7.6c...</td>\n",
       "      <td>(Asus ZenFone 2 Selfie Smartphone, 32 GB, Dual...</td>\n",
       "      <td>(Lenovo Motorola Moto X Play Smartphone, 5.5\",...</td>\n",
       "      <td>(LG Nexus 5X Smartphone, Display Touch da 5,2\"...</td>\n",
       "      <td>(Samsung Galaxy J5 Smartphone, Bianco [Italia]...</td>\n",
       "    </tr>\n",
       "    <tr>\n",
       "      <th>Tom</th>\n",
       "      <td>(Sim Free Samsung Galaxy S7 Mobile Phone - Bla...</td>\n",
       "      <td>(Samsung Galaxy S5 White 16GB (Virgin Mobile),...</td>\n",
       "      <td>(Apple iPhone 5s 16GB (ÑÐµÑÐµÐ±ÑÐ¸ÑÑÑÐ¹)...</td>\n",
       "      <td>(Samsung Galaxy S7, 10)</td>\n",
       "      <td>(Samsung Galaxy S II White, 10)</td>\n",
       "    </tr>\n",
       "    <tr>\n",
       "      <th>ÐÐ¸ÐºÑÐ¾Ñ</th>\n",
       "      <td>(Samsung S8530 Wave II, 9.39719656655401)</td>\n",
       "      <td>(Samsung S7270 Galaxy Ace 3 (Ð±ÐµÐ»ÑÐ¹), 9.31...</td>\n",
       "      <td>(HTC Nexus One, 9.18843471622974)</td>\n",
       "      <td>(Samsung Galaxy S4 mini GT-I9190 (ÐºÐ¾ÑÐ¸ÑÐ½...</td>\n",
       "      <td>(Sony Xperia Z1 Compact (ÑÐµÑÐ½ÑÐ¹), 9.1541...</td>\n",
       "    </tr>\n",
       "    <tr>\n",
       "      <th>Nicola</th>\n",
       "      <td>(Samsung Galaxy S III Smartphone, Bianco [Ital...</td>\n",
       "      <td>(Asus ZenFone 3 Smartphone, Display da 5.2\", M...</td>\n",
       "      <td>(Lenovo Motorola Moto G Smartphone, 4,5 pollic...</td>\n",
       "      <td>(Lenovo Motorola Moto G Smartphone, 4,5 pollic...</td>\n",
       "      <td>(Huawei P9 Lite Smartphone, LTE, Display 5.2''...</td>\n",
       "    </tr>\n",
       "    <tr>\n",
       "      <th>David</th>\n",
       "      <td>(Huawei P8 Grace - Smartphone libre Android (p...</td>\n",
       "      <td>(APPLE iPhone 7 - Silver, 128 GB, 10)</td>\n",
       "      <td>(LG G2 mini - Smartphone libre Android (Pantal...</td>\n",
       "      <td>(Sim Free Motorola Moto G 4th Generation Mobil...</td>\n",
       "      <td>(Nokia N70, 10)</td>\n",
       "    </tr>\n",
       "    <tr>\n",
       "      <th>Misafir</th>\n",
       "      <td>(Vodafone (69) 945, 9.0)</td>\n",
       "      <td>(Vodafone (69) 555, 9.0)</td>\n",
       "      <td>(Vodafone (69) 858 Smart, 9.0)</td>\n",
       "      <td>(Samsung (936) Galaxy Ace S5830I, 9.0)</td>\n",
       "      <td>(Samsung (936) Galaxy Ace S5830I, 9.0)</td>\n",
       "    </tr>\n",
       "  </tbody>\n",
       "</table>\n",
       "</div>"
      ],
      "text/plain": [
       "                                                              0  \\\n",
       "Gabriele      (Lenovo Motorola Moto G Smartphone, Display HD...   \n",
       "Max                             (Nokia Lumia 800 Cyan Blue, 10)   \n",
       "Tina          (Samsung E1150 Handy (extralange Akkulaufzeit)...   \n",
       "Chris                                          (Sharp GX15, 10)   \n",
       "Silvia        (LG Electronics GS290 Cookie Fresh Handy (7.6c...   \n",
       "Tom           (Sim Free Samsung Galaxy S7 Mobile Phone - Bla...   \n",
       "ÐÐ¸ÐºÑÐ¾Ñ          (Samsung S8530 Wave II, 9.39719656655401)   \n",
       "Nicola        (Samsung Galaxy S III Smartphone, Bianco [Ital...   \n",
       "David         (Huawei P8 Grace - Smartphone libre Android (p...   \n",
       "Misafir                                (Vodafone (69) 945, 9.0)   \n",
       "\n",
       "                                                              1  \\\n",
       "Gabriele      (Acer Liquid E2 Duo Smartphone, Bianco [Franci...   \n",
       "Max           (Samsung Galaxy Grand Prime Dual Sim Factory U...   \n",
       "Tina             (HTC Desire Sim Free Mobile Phone - Mocha, 10)   \n",
       "Chris         (Sim Free Apple iPhone 5S 16GB Mobile Phone - ...   \n",
       "Silvia        (Asus ZenFone 2 Selfie Smartphone, 32 GB, Dual...   \n",
       "Tom           (Samsung Galaxy S5 White 16GB (Virgin Mobile),...   \n",
       "ÐÐ¸ÐºÑÐ¾Ñ  (Samsung S7270 Galaxy Ace 3 (Ð±ÐµÐ»ÑÐ¹), 9.31...   \n",
       "Nicola        (Asus ZenFone 3 Smartphone, Display da 5.2\", M...   \n",
       "David                     (APPLE iPhone 7 - Silver, 128 GB, 10)   \n",
       "Misafir                                (Vodafone (69) 555, 9.0)   \n",
       "\n",
       "                                                              2  \\\n",
       "Gabriele      (Lenovo Motorola Moto G 4G 3 Generazione Smart...   \n",
       "Max           (Samsung Galaxy S6 Smartphone (5,1 Zoll (12,9 ...   \n",
       "Tina          (Microsoft Nokia C7-00 Smartphone (8.89cm (3.5...   \n",
       "Chris         (APPLE iPhone 7 Plus - Gold, 32 GB, 9.99717036...   \n",
       "Silvia        (Lenovo Motorola Moto X Play Smartphone, 5.5\",...   \n",
       "Tom           (Apple iPhone 5s 16GB (ÑÐµÑÐµÐ±ÑÐ¸ÑÑÑÐ¹)...   \n",
       "ÐÐ¸ÐºÑÐ¾Ñ                  (HTC Nexus One, 9.18843471622974)   \n",
       "Nicola        (Lenovo Motorola Moto G Smartphone, 4,5 pollic...   \n",
       "David         (LG G2 mini - Smartphone libre Android (Pantal...   \n",
       "Misafir                          (Vodafone (69) 858 Smart, 9.0)   \n",
       "\n",
       "                                                              3  \\\n",
       "Gabriele      (Asus ZenFone 2 Smartphone, Schermo da 5.5\" Fu...   \n",
       "Max           (Huawei Ascend Mate 7 Smartphone, Display IPS ...   \n",
       "Tina          (Nokia 6310i silver (GPRS, Bluetooth, HSCSD, W...   \n",
       "Chris               (Nokia 5610 XpressMusic, 9.819557930987013)   \n",
       "Silvia        (LG Nexus 5X Smartphone, Display Touch da 5,2\"...   \n",
       "Tom                                     (Samsung Galaxy S7, 10)   \n",
       "ÐÐ¸ÐºÑÐ¾Ñ  (Samsung Galaxy S4 mini GT-I9190 (ÐºÐ¾ÑÐ¸ÑÐ½...   \n",
       "Nicola        (Lenovo Motorola Moto G Smartphone, 4,5 pollic...   \n",
       "David         (Sim Free Motorola Moto G 4th Generation Mobil...   \n",
       "Misafir                  (Samsung (936) Galaxy Ace S5830I, 9.0)   \n",
       "\n",
       "                                                              4  \n",
       "Gabriele      (Asus ZenFone 2 Smartphone, Schermo da 5.5\" Fu...  \n",
       "Max           (Microsoft Nokia 101 Dual-SIM Handy (4,6 cm (1...  \n",
       "Tina          (Huawei P8 Lite Smartphone, Display 5\" IPS, Pr...  \n",
       "Chris         (Samsung Galaxy S7 goud, roze / 32 GB, 9.68448...  \n",
       "Silvia        (Samsung Galaxy J5 Smartphone, Bianco [Italia]...  \n",
       "Tom                             (Samsung Galaxy S II White, 10)  \n",
       "ÐÐ¸ÐºÑÐ¾Ñ  (Sony Xperia Z1 Compact (ÑÐµÑÐ½ÑÐ¹), 9.1541...  \n",
       "Nicola        (Huawei P9 Lite Smartphone, LTE, Display 5.2''...  \n",
       "David                                           (Nokia N70, 10)  \n",
       "Misafir                  (Samsung (936) Galaxy Ace S5830I, 9.0)  "
      ]
     },
     "execution_count": 46,
     "metadata": {},
     "output_type": "execute_result"
    }
   ],
   "source": [
    "top_5_recomm_df.sample(10)"
   ]
  },
  {
   "attachments": {},
   "cell_type": "markdown",
   "metadata": {},
   "source": [
    "Other techniques (Example: cross validation) to get better results."
   ]
  },
  {
   "cell_type": "code",
   "execution_count": 47,
   "metadata": {},
   "outputs": [
    {
     "name": "stdout",
     "output_type": "stream",
     "text": [
      "Mean SVD CV score - 2.6860568793861557\n"
     ]
    },
    {
     "data": {
      "text/plain": [
       "{'test_rmse': array([2.65846758, 2.69282985, 2.69573008, 2.68912433, 2.69413256]),\n",
       " 'fit_time': (0.3931119441986084,\n",
       "  0.2517261505126953,\n",
       "  0.2579822540283203,\n",
       "  0.2542579174041748,\n",
       "  0.2599048614501953),\n",
       " 'test_time': (0.03076624870300293,\n",
       "  0.03050518035888672,\n",
       "  0.08492517471313477,\n",
       "  0.030178070068359375,\n",
       "  0.03051924705505371)}"
      ]
     },
     "execution_count": 47,
     "metadata": {},
     "output_type": "execute_result"
    }
   ],
   "source": [
    "# SVD \n",
    "svd_cv = cross_validate(svd, review_50, measures=[\"RMSE\"], cv=5, verbose=False)\n",
    "print(f\"Mean SVD CV score - {svd_cv['test_rmse'].mean()}\")\n",
    "svd_cv"
   ]
  },
  {
   "cell_type": "code",
   "execution_count": 48,
   "metadata": {},
   "outputs": [
    {
     "name": "stdout",
     "output_type": "stream",
     "text": [
      "Computing the msd similarity matrix...\n",
      "Computing the msd similarity matrix...\n",
      "Computing the msd similarity matrix...\n",
      "Computing the msd similarity matrix...\n",
      "Done computing similarity matrix.\n",
      "Done computing similarity matrix.\n",
      "Done computing similarity matrix.\n",
      "Done computing similarity matrix.\n",
      "Computing the msd similarity matrix...\n",
      "Done computing similarity matrix.\n",
      "Mean KNN Item based CV score - 2.7034785695034125\n"
     ]
    },
    {
     "data": {
      "text/plain": [
       "{'test_rmse': array([2.71740814, 2.70871256, 2.69455071, 2.68213688, 2.71458456]),\n",
       " 'fit_time': (6.812378883361816,\n",
       "  6.819812774658203,\n",
       "  6.837608814239502,\n",
       "  6.852417945861816,\n",
       "  5.789396047592163),\n",
       " 'test_time': (54.072301149368286,\n",
       "  53.350480794906616,\n",
       "  53.1910982131958,\n",
       "  53.395660638809204,\n",
       "  40.302135944366455)}"
      ]
     },
     "execution_count": 48,
     "metadata": {},
     "output_type": "execute_result"
    }
   ],
   "source": [
    "# KNN Item based\n",
    "\n",
    "# by default the n_jobs=1 and KNN Item based takes more time we we're setting the n_jobs=4 (alternate is to use multiprocessing.cpu_count())\n",
    "knn_item_based_cv = cross_validate(knn_item_based, review_50, measures=[\"RMSE\"], cv=5, verbose=False, n_jobs=4)\n",
    "print(f\"Mean KNN Item based CV score - {knn_item_based_cv['test_rmse'].mean()}\")\n",
    "knn_item_based_cv"
   ]
  },
  {
   "cell_type": "code",
   "execution_count": 49,
   "metadata": {},
   "outputs": [
    {
     "name": "stdout",
     "output_type": "stream",
     "text": [
      "Computing the msd similarity matrix...\n",
      "Done computing similarity matrix.\n",
      "Computing the msd similarity matrix...\n",
      "Done computing similarity matrix.\n",
      "Computing the msd similarity matrix...\n",
      "Done computing similarity matrix.\n",
      "Computing the msd similarity matrix...\n",
      "Done computing similarity matrix.\n",
      "Computing the msd similarity matrix...\n",
      "Done computing similarity matrix.\n",
      "Mean KNN User based CV score - 2.6958854561897327\n"
     ]
    },
    {
     "data": {
      "text/plain": [
       "{'test_rmse': array([2.70956412, 2.70799096, 2.68482091, 2.6690204 , 2.70803089]),\n",
       " 'fit_time': (0.09882593154907227,\n",
       "  0.09842419624328613,\n",
       "  0.09642386436462402,\n",
       "  0.09922504425048828,\n",
       "  0.09835314750671387),\n",
       " 'test_time': (0.8785512447357178,\n",
       "  0.7304089069366455,\n",
       "  0.7494268417358398,\n",
       "  0.7340688705444336,\n",
       "  0.7913968563079834)}"
      ]
     },
     "execution_count": 49,
     "metadata": {},
     "output_type": "execute_result"
    }
   ],
   "source": [
    "knn_user_based_cv = cross_validate(knn_user_based, review_50, measures=[\"RMSE\"], cv=5, verbose=False)\n",
    "print(f\"Mean KNN User based CV score - {knn_user_based_cv['test_rmse'].mean()}\")\n",
    "knn_user_based_cv"
   ]
  },
  {
   "attachments": {},
   "cell_type": "markdown",
   "metadata": {},
   "source": [
    "- Popularity based recommendation systems are well-suited to a number of business scenarios where there is limited user data or where personalized recommendations are not necessary.\n",
    "\n",
    "- Businesses for which the content is the product can easily use the most popularity based recommendation system since they're a a good way to highlight the most popular or trending content\n",
    "\n",
    "- New businesses or businesses with niche market which typically might not have enough user data to build CF based recommendation system can benefit from popularity based.\n",
    "\n",
    "- Scenarious where products that are low-cost or have a short lifespan, it may not be worth the investment to build complex recommendation systems."
   ]
  },
  {
   "attachments": {},
   "cell_type": "markdown",
   "metadata": {},
   "source": [
    "**CF based Recommendation Systems**"
   ]
  },
  {
   "attachments": {},
   "cell_type": "markdown",
   "metadata": {},
   "source": [
    "- Collaborative filtering (CF) based recommendation systems are particularly useful in situations where a business wants to recommend products or services to customers based on their preferences and past behavior.\n",
    "\n",
    "- CF algorithms work by analyzing patterns in user behavior and identifying other users who have similar preferences. This allows the system to recommend items that have been positively reviewed by users with similar tastes, even if the current user has not explicitly expressed an interest in that item.\n",
    "\n",
    "- Businesses such as streaming services, E-Commerce and social networking site benefit from CF based recommendation systems. \n",
    "\n",
    "- They're not particularly useful in business which don't have much data but want to provide recommendations becuase CF based recommendation systems suffer from cold-start and sparsity problem.\n",
    "\n",
    "- They can become computationally expensive and hard to scale. ROI need to be taken into cosidering in such scenarios"
   ]
  },
  {
   "attachments": {},
   "cell_type": "markdown",
   "metadata": {},
   "source": [
    "Possible methods which can further improve the recommendation for different users"
   ]
  },
  {
   "attachments": {},
   "cell_type": "markdown",
   "metadata": {},
   "source": [
    "- We can try Hybrid systems can combine multiple recommendation methods to provide better recommendations. \n",
    "\t- For example, combining collaborative and content based filterin.\n",
    "- There is also contextual recommendations which can take into account the user's current context, such as their location (in this case country), and device they use, to provide more personalized recommendations\n",
    "- Having the phone's configuration like the Megapixels of the camera, processor speed and operating system can be helpful here for more accurate recommendations."
   ]
  }
 ],
 "metadata": {
  "kernelspec": {
   "display_name": ".venv",
   "language": "python",
   "name": "python3"
  },
  "language_info": {
   "codemirror_mode": {
    "name": "ipython",
    "version": 3
   },
   "file_extension": ".py",
   "mimetype": "text/x-python",
   "name": "python",
   "nbconvert_exporter": "python",
   "pygments_lexer": "ipython3",
   "version": "3.11.11"
  },
  "orig_nbformat": 4
 },
 "nbformat": 4,
 "nbformat_minor": 2
}
